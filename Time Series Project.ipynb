{
 "cells": [
  {
   "cell_type": "code",
   "execution_count": 1,
   "id": "f269fed1",
   "metadata": {},
   "outputs": [
    {
     "name": "stdout",
     "output_type": "stream",
     "text": [
      "Defaulting to user installation because normal site-packages is not writeable\n",
      "Requirement already satisfied: statsmodels in c:\\programdata\\anaconda3\\lib\\site-packages (0.13.2)\n",
      "Requirement already satisfied: numpy>=1.17 in c:\\programdata\\anaconda3\\lib\\site-packages (from statsmodels) (1.21.5)\n",
      "Requirement already satisfied: scipy>=1.3 in c:\\programdata\\anaconda3\\lib\\site-packages (from statsmodels) (1.9.1)\n",
      "Requirement already satisfied: pandas>=0.25 in c:\\users\\thinkpad\\appdata\\roaming\\python\\python39\\site-packages (from statsmodels) (1.5.3)\n",
      "Requirement already satisfied: patsy>=0.5.2 in c:\\programdata\\anaconda3\\lib\\site-packages (from statsmodels) (0.5.2)\n",
      "Requirement already satisfied: packaging>=21.3 in c:\\programdata\\anaconda3\\lib\\site-packages (from statsmodels) (21.3)\n",
      "Requirement already satisfied: pyparsing!=3.0.5,>=2.0.2 in c:\\programdata\\anaconda3\\lib\\site-packages (from packaging>=21.3->statsmodels) (3.0.9)\n",
      "Requirement already satisfied: pytz>=2020.1 in c:\\users\\thinkpad\\appdata\\roaming\\python\\python39\\site-packages (from pandas>=0.25->statsmodels) (2022.7.1)\n",
      "Requirement already satisfied: python-dateutil>=2.8.1 in c:\\programdata\\anaconda3\\lib\\site-packages (from pandas>=0.25->statsmodels) (2.8.2)\n",
      "Requirement already satisfied: six in c:\\programdata\\anaconda3\\lib\\site-packages (from patsy>=0.5.2->statsmodels) (1.16.0)\n"
     ]
    }
   ],
   "source": [
    "!pip install statsmodels"
   ]
  },
  {
   "cell_type": "code",
   "execution_count": 2,
   "id": "d40c057d",
   "metadata": {},
   "outputs": [],
   "source": [
    "import pandas as pd\n",
    "import numpy as np \n",
    "import matplotlib.pyplot as plt\n",
    "from pandas.plotting import register_matplotlib_converters\n",
    "from statsmodels.graphics.tsaplots import plot_acf, plot_pacf\n",
    "register_matplotlib_converters()\n",
    "import statsmodels.api as sm"
   ]
  },
  {
   "cell_type": "code",
   "execution_count": 3,
   "id": "d2eddcf5",
   "metadata": {},
   "outputs": [],
   "source": [
    "df_ice_cream=pd.read_csv('ice_cream.csv')"
   ]
  },
  {
   "cell_type": "raw",
   "id": "9ade52f2",
   "metadata": {},
   "source": [
    "df_ice_cream.head()"
   ]
  },
  {
   "cell_type": "markdown",
   "id": "7538a9a1",
   "metadata": {},
   "source": [
    "### Cleaning\n"
   ]
  },
  {
   "cell_type": "code",
   "execution_count": null,
   "id": "4c6696ea",
   "metadata": {},
   "outputs": [],
   "source": [
    "#renaming columns\n",
    "df_ice_cream.rename(columns={'DATE':'date','IPN31152N':'production'}, inplace=True)"
   ]
  },
  {
   "cell_type": "code",
   "execution_count": null,
   "id": "20eb0ff9",
   "metadata": {},
   "outputs": [],
   "source": [
    "#convert date column to datetime type\n",
    "df_ice_cream['date'] = pd.to_datetime(df_ice_cream.date)"
   ]
  },
  {
   "cell_type": "code",
   "execution_count": null,
   "id": "c00d024e",
   "metadata": {},
   "outputs": [],
   "source": [
    "#set date as index\n",
    "df_ice_cream.set_index('date', inplace=True)"
   ]
  },
  {
   "cell_type": "code",
   "execution_count": null,
   "id": "e343cb67",
   "metadata": {},
   "outputs": [],
   "source": [
    "#just get data starting from 2012 \n",
    "start_date=pd.to_datetime('2012-01-01')\n",
    "df_ice_cream = df_ice_cream[start_date:]"
   ]
  },
  {
   "cell_type": "code",
   "execution_count": null,
   "id": "8ea53036",
   "metadata": {},
   "outputs": [],
   "source": [
    "#show result \n",
    "df_ice_cream.head()"
   ]
  },
  {
   "cell_type": "markdown",
   "id": "51d30235",
   "metadata": {},
   "source": [
    "## Plotting\n"
   ]
  },
  {
   "cell_type": "code",
   "execution_count": null,
   "id": "5727673b",
   "metadata": {},
   "outputs": [],
   "source": [
    "plt.figure(figsize=(10,4))\n",
    "plt.plot(df_ice_cream.production)\n",
    "plt.title('Ice Cream Production Over Time', fontsize=20)\n",
    "plt.ylabel('Production', fontsize=18)\n",
    "for year in range(2011, 2021):\n",
    " plt.axvline(pd.to_datetime(str(year) + '-01-01'), color='k', linestyle='--' )\n",
    "    "
   ]
  },
  {
   "cell_type": "markdown",
   "id": "6a166cd6",
   "metadata": {},
   "source": [
    "# ACF\n"
   ]
  },
  {
   "cell_type": "code",
   "execution_count": null,
   "id": "91c086dd",
   "metadata": {},
   "outputs": [],
   "source": [
    "acf_plot = plot_acf(df_ice_cream.production, lags=96)"
   ]
  },
  {
   "cell_type": "markdown",
   "id": "6f3bf77a",
   "metadata": {},
   "source": [
    "# based on the plot we are likely dealing with an Auto Regressive process"
   ]
  },
  {
   "cell_type": "markdown",
   "id": "e1a894ee",
   "metadata": {},
   "source": [
    "###  PACF"
   ]
  },
  {
   "cell_type": "code",
   "execution_count": null,
   "id": "99c422b8",
   "metadata": {},
   "outputs": [],
   "source": [
    "pacf_plot = plot_pacf(df_ice_cream.production)\n"
   ]
  },
  {
   "cell_type": "markdown",
   "id": "25bd55c5",
   "metadata": {},
   "source": [
    "###  based on PACF ,we should start with an Auto Regressive model with lags 1,2,3,10,13"
   ]
  },
  {
   "cell_type": "code",
   "execution_count": null,
   "id": "223ca568",
   "metadata": {},
   "outputs": [],
   "source": []
  }
 ],
 "metadata": {
  "kernelspec": {
   "display_name": "Python 3 (ipykernel)",
   "language": "python",
   "name": "python3"
  },
  "language_info": {
   "codemirror_mode": {
    "name": "ipython",
    "version": 3
   },
   "file_extension": ".py",
   "mimetype": "text/x-python",
   "name": "python",
   "nbconvert_exporter": "python",
   "pygments_lexer": "ipython3",
   "version": "3.9.13"
  }
 },
 "nbformat": 4,
 "nbformat_minor": 5
}
